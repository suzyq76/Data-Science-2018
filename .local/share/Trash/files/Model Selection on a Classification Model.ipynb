{
 "cells": [
  {
   "cell_type": "markdown",
   "metadata": {},
   "source": [
    "# Homework"
   ]
  },
  {
   "cell_type": "markdown",
   "metadata": {
    "deletable": false,
    "editable": false,
    "nbgrader": {
     "checksum": "2e110834e11fcf5500f4dd9e5f72b5b8",
     "grade": false,
     "grade_id": "cell-80b77fe0d5d362ae",
     "locked": true,
     "schema_version": 1,
     "solution": false
    }
   },
   "source": [
    "#### Explain the bias-variance tradeoff."
   ]
  },
  {
   "cell_type": "markdown",
   "metadata": {
    "deletable": false,
    "nbgrader": {
     "checksum": "a3ae4a44207d40f055e076aabbb09b45",
     "grade": true,
     "grade_id": "cell-e573d055cfb4a916",
     "locked": false,
     "points": 4,
     "schema_version": 1,
     "solution": true
    }
   },
   "source": [
    "# your code here - extra credit ISLR pages 33-37\n",
    "stop('Not implemented.')"
   ]
  },
  {
   "cell_type": "markdown",
   "metadata": {
    "deletable": false,
    "editable": false,
    "nbgrader": {
     "checksum": "83886665b6d5458966acb332c5e17c68",
     "grade": false,
     "grade_id": "cell-c40be3d158eb9ad1",
     "locked": true,
     "schema_version": 1,
     "solution": false
    }
   },
   "source": [
    "#### Discuss the pros and cons of using the BIC to select a model."
   ]
  },
  {
   "cell_type": "markdown",
   "metadata": {
    "deletable": false,
    "nbgrader": {
     "checksum": "25405a06bb3615c01ebf2da1294c49a8",
     "grade": true,
     "grade_id": "cell-5df930a8f675836a",
     "locked": false,
     "points": 10,
     "schema_version": 1,
     "solution": true
    }
   },
   "source": [
    "Pro - It is computationally simple to use, it helps select a model, aids in choosing the best fitting model.\n",
    "Cons - The approximation is only valid for sample size n much larger than the number k of parameters in the model.\n",
    "The BIC cannot handle complex collections of models as in the variable selection problem in high-dimension."
   ]
  },
  {
   "cell_type": "markdown",
   "metadata": {},
   "source": [
    "# Model Selection on a Classification Model"
   ]
  },
  {
   "cell_type": "code",
   "execution_count": 11,
   "metadata": {},
   "outputs": [],
   "source": [
    "seeds.data = read.csv(\"seeds_dataset.csv\")"
   ]
  },
  {
   "cell_type": "code",
   "execution_count": 15,
   "metadata": {},
   "outputs": [
    {
     "data": {
      "text/plain": [
       "\n",
       "Call:\n",
       "glm(formula = \"Target ~ 1 + Area + Perimeter + Compactness + Length + Width + Asymmetry + Grove\", \n",
       "    data = seeds.data)\n",
       "\n",
       "Deviance Residuals: \n",
       "     Min        1Q    Median        3Q       Max  \n",
       "-1.31887  -0.24382  -0.01955   0.24295   1.21277  \n",
       "\n",
       "Coefficients:\n",
       "             Estimate Std. Error t value Pr(>|t|)    \n",
       "(Intercept)  55.64792    7.54634   7.374 4.90e-12 ***\n",
       "Area          1.56488    0.26256   5.960 1.20e-08 ***\n",
       "Perimeter    -3.41870    0.54156  -6.313 1.87e-09 ***\n",
       "Compactness -31.97971    5.33149  -5.998 9.81e-09 ***\n",
       "Length       -2.14741    0.46110  -4.657 5.99e-06 ***\n",
       "Width         0.24688    0.78939   0.313    0.755    \n",
       "Asymmetry     0.10838    0.02327   4.658 5.97e-06 ***\n",
       "Grove         2.15089    0.20559  10.462  < 2e-16 ***\n",
       "---\n",
       "Signif. codes:  0 ‘***’ 0.001 ‘**’ 0.01 ‘*’ 0.05 ‘.’ 0.1 ‘ ’ 1\n",
       "\n",
       "(Dispersion parameter for gaussian family taken to be 0.1660733)\n",
       "\n",
       "    Null deviance: 130.99  on 198  degrees of freedom\n",
       "Residual deviance:  31.72  on 191  degrees of freedom\n",
       "  (11 observations deleted due to missingness)\n",
       "AIC: 217.3\n",
       "\n",
       "Number of Fisher Scoring iterations: 2\n"
      ]
     },
     "metadata": {},
     "output_type": "display_data"
    }
   ],
   "source": [
    "seeds.glm = glm(\"Target ~ 1 + Area + Perimeter + Compactness + Length + Width + Asymmetry + Grove\", data = seeds.data)\n",
    "summary(seeds.glm)"
   ]
  },
  {
   "cell_type": "markdown",
   "metadata": {},
   "source": [
    "## The Log-Likelihood\n",
    "\n",
    "Without going too far into the math, we can think of the log-likelihood as a **likelihood function** telling us how likely a model is given the data. "
   ]
  },
  {
   "cell_type": "markdown",
   "metadata": {},
   "source": [
    "This value is not human interpretable but is useful as a comparison."
   ]
  },
  {
   "cell_type": "code",
   "execution_count": 16,
   "metadata": {},
   "outputs": [
    {
     "data": {
      "text/plain": [
       "'log Lik.' -99.6512 (df=9)"
      ]
     },
     "metadata": {},
     "output_type": "display_data"
    }
   ],
   "source": [
    "logLik(seeds.glm)"
   ]
  },
  {
   "cell_type": "markdown",
   "metadata": {},
   "source": [
    "\"All models are wrong, but some are useful.\" - George Box"
   ]
  },
  {
   "cell_type": "markdown",
   "metadata": {},
   "source": [
    "We might be concerned with one additional property - the **complexity** of the model. \n",
    "\n",
    "##### William of Occam\n",
    "\n",
    "[**Occam's razor**](https://en.wikipedia.org/wiki/Occam's_razor) is the problem-solving principle that, when presented with competing hypothetical answers to a problem, one should select the one that makes the fewest assumptions.\n",
    "\n",
    "<img src=\"https://upload.wikimedia.org/wikipedia/commons/a/ab/William_of_Ockham_-_Logica_1341.jpg\" width=400px>"
   ]
  },
  {
   "cell_type": "markdown",
   "metadata": {},
   "source": [
    "We can represent this idea of complexity in terms of both the number of features we use and the amount of data."
   ]
  },
  {
   "cell_type": "markdown",
   "metadata": {},
   "source": [
    "## Bayesian Information Criterion\n",
    "\n",
    "https://en.wikipedia.org/wiki/Bayesian_information_criterion\n",
    "\n",
    "The BIC is formally defined as\n",
    "\n",
    "$$ \\mathrm{BIC} = {\\log(n)k - 2\\log({\\widehat L})}. $$\n",
    "\n",
    "where\n",
    "\n",
    "- $\\widehat L$ = the maximized value of the likelihood function of the model $M$\n",
    "- $x$ = the observed data\n",
    "- $n$ = the number of data points in $x$, the number of observations, or equivalently, the sample size;\n",
    "- $k$ = the number of parameters estimated by the model. For example, in multiple linear regression, the estimated parameters are the intercept, the $q$ slope parameters, and the constant variance of the errors; thus, $k = q + 2$.\n",
    "\n",
    "\n",
    "It might help us to think of it as \n",
    "\n",
    "$$ \\mathrm{BIC} = \\text{complexity}-\\text{likelihood}$$"
   ]
  },
  {
   "cell_type": "code",
   "execution_count": 17,
   "metadata": {},
   "outputs": [
    {
     "data": {
      "text/html": [
       "246.942152387597"
      ],
      "text/latex": [
       "246.942152387597"
      ],
      "text/markdown": [
       "246.942152387597"
      ],
      "text/plain": [
       "[1] 246.9422"
      ]
     },
     "metadata": {},
     "output_type": "display_data"
    }
   ],
   "source": [
    "BIC(seeds.glm)"
   ]
  },
  {
   "cell_type": "code",
   "execution_count": 19,
   "metadata": {},
   "outputs": [
    {
     "data": {
      "text/plain": [
       "'log Lik.' 246.9422 (df=9)"
      ]
     },
     "metadata": {},
     "output_type": "display_data"
    }
   ],
   "source": [
    "n = length(seeds.glm$fitted.values)\n",
    "p = length(coefficients(seeds.glm))\n",
    "\n",
    "likelihood = 2 * logLik(seeds.glm)\n",
    "complexity = log(n)*(p+1)\n",
    "\n",
    "bic = complexity - likelihood\n",
    "bic"
   ]
  },
  {
   "cell_type": "code",
   "execution_count": 21,
   "metadata": {},
   "outputs": [],
   "source": [
    "BIC_of_model = function (model) {\n",
    "    n = length(model$fitted.values)\n",
    "    p = length(coefficients(model))\n",
    "\n",
    "    likelihood = 2 * logLik(model)\n",
    "    complexity = log(n)*(p+1)\n",
    "\n",
    "    bic = complexity - likelihood\n",
    "    return(bic)\n",
    "}"
   ]
  },
  {
   "cell_type": "code",
   "execution_count": 22,
   "metadata": {},
   "outputs": [
    {
     "data": {
      "text/plain": [
       "'log Lik.' 246.9422 (df=9)"
      ]
     },
     "metadata": {},
     "output_type": "display_data"
    }
   ],
   "source": [
    "BIC_of_model(seeds.glm)"
   ]
  },
  {
   "cell_type": "markdown",
   "metadata": {},
   "source": [
    "## Model Selection\n",
    "\n",
    "Here, we choose the optimal model by removing features one by one."
   ]
  },
  {
   "cell_type": "code",
   "execution_count": 23,
   "metadata": {},
   "outputs": [],
   "source": [
    "model_1  = \"Target ~ 1 + Area + Perimeter + Compactness + Length + Width + Asymmetry + Grove\"\n",
    "model_2a = \"Target ~ 1 + Area +             Compactness + Length + Width + Asymmetry + Grove\"\n",
    "model_2b = \"Target ~ 1 + Area + Perimeter +               Length + Width + Asymmetry + Grove\"\n",
    "model_2c = \"Target ~ 1 + Area + Perimeter + Compactness +          Width + Asymmetry + Grove\"\n",
    "model_2d = \"Target ~ 1 + Area + Perimeter + Compactness + Length +         Asymmetry + Grove\"\n",
    "model_2e = \"Target ~ 1 + Area + Perimeter + Compactness + Length + Width +             Grove\"\n",
    "model_2f = \"Target ~ 1 + Area + Perimeter + Compactness + Length + Width + Asymmetry        \""
   ]
  },
  {
   "cell_type": "code",
   "execution_count": 24,
   "metadata": {},
   "outputs": [],
   "source": [
    "seeds.glm.1 = glm(model_1, data=seeds.data)\n",
    "seeds.glm.2a = glm(model_2a, data=seeds.data)\n",
    "seeds.glm.2b = glm(model_2b, data=seeds.data)\n",
    "seeds.glm.2c = glm(model_2c, data=seeds.data)\n",
    "seeds.glm.2d = glm(model_2d, data=seeds.data)\n",
    "seeds.glm.2e = glm(model_2e, data=seeds.data)\n",
    "seeds.glm.2f = glm(model_2f, data=seeds.data)"
   ]
  },
  {
   "cell_type": "code",
   "execution_count": 25,
   "metadata": {},
   "outputs": [
    {
     "name": "stdout",
     "output_type": "stream",
     "text": [
      "[1] \"model_1\"          \"246.942152387597\"\n",
      "[1] \"model_2a\"         \"279.358145369205\"\n",
      "[1] \"model_2b\"         \"334.008094594033\"\n",
      "[1] \"model_2c\"         \"263.052551365895\"\n",
      "[1] \"model_2d\"         \"241.750726273439\"\n",
      "[1] \"model_2e\"        \"263.05926376933\"\n",
      "[1] \"model_2f\"         \"458.937135824306\"\n"
     ]
    }
   ],
   "source": [
    "print(c('model_1', BIC_of_model(seeds.glm.1)))\n",
    "print(c('model_2a', BIC_of_model(seeds.glm.2a )))\n",
    "print(c('model_2b', BIC_of_model(seeds.glm.2b )))\n",
    "print(c('model_2c', BIC_of_model(seeds.glm.2c )))\n",
    "print(c('model_2d', BIC_of_model(seeds.glm.2d )))\n",
    "print(c('model_2e', BIC_of_model(seeds.glm.2e )))\n",
    "print(c('model_2f', BIC_of_model(seeds.glm.2f )))"
   ]
  },
  {
   "cell_type": "code",
   "execution_count": 26,
   "metadata": {},
   "outputs": [
    {
     "name": "stdout",
     "output_type": "stream",
     "text": [
      "[1] \"model_1\"          \"246.942152387597\"\n",
      "[1] \"model_2a\"         \"279.358145369205\"\n",
      "[1] \"model_2b\"         \"334.008094594033\"\n",
      "[1] \"model_2c\"         \"263.052551365895\"\n",
      "[1] \"model_2d\"         \"241.750726273439\"\n",
      "[1] \"model_2e\"        \"263.05926376933\"\n",
      "[1] \"model_2f\"         \"458.937135824306\"\n"
     ]
    }
   ],
   "source": [
    "print(c('model_1', BIC(seeds.glm.1)))\n",
    "print(c('model_2a', BIC(seeds.glm.2a )))\n",
    "print(c('model_2b', BIC(seeds.glm.2b )))\n",
    "print(c('model_2c', BIC(seeds.glm.2c )))\n",
    "print(c('model_2d', BIC(seeds.glm.2d )))\n",
    "print(c('model_2e', BIC(seeds.glm.2e )))\n",
    "print(c('model_2f', BIC(seeds.glm.2f )))"
   ]
  },
  {
   "cell_type": "code",
   "execution_count": 30,
   "metadata": {},
   "outputs": [],
   "source": [
    "model_1  = \"Target ~ 1 + Area + Perimeter + Compactness + Length + Width + Asymmetry + Grove\"\n",
    "model_2a = \"Target ~ 1 + Area +             Compactness + Length + Width + Asymmetry + Grove\"\n",
    "model_2c = \"Target ~ 1 + Area + Perimeter + Compactness +          Width + Asymmetry + Grove\"\n",
    "model_3a = \"Target ~ 1 + Area + Perimeter +                      + Width + Asymmetry + Grove\"\n",
    "model_3b = \"Target ~ 1 + Area + Perimeter + Compactness +                  Asymmetry + Grove\"\n",
    "model_3c = \"Target ~ 1 + Area + Perimeter + Compactness + Length +         Asymmetry        \"\n",
    "model_3d = \"Target ~ 1 + Area + Perimeter + Compactness + Length + Width                    \""
   ]
  },
  {
   "cell_type": "code",
   "execution_count": 31,
   "metadata": {},
   "outputs": [],
   "source": [
    "seeds.glm.3a = glm(model_3a, data=seeds.data)\n",
    "seeds.glm.3b = glm(model_3b, data=seeds.data)\n",
    "seeds.glm.3c = glm(model_3c, data=seeds.data)\n",
    "seeds.glm.3d = glm(model_3d, data=seeds.data)"
   ]
  },
  {
   "cell_type": "code",
   "execution_count": 33,
   "metadata": {},
   "outputs": [
    {
     "name": "stdout",
     "output_type": "stream",
     "text": [
      "[1] \"model_1\"          \"246.942152387597\"\n",
      "[1] \"model_2a\"         \"263.052551365895\"\n",
      "[1] \"model_2c\"         \"263.052551365895\"\n",
      "[1] \"model_3a\"         \"376.393818585246\"\n",
      "[1] \"model_3b\"         \"259.575072490043\"\n",
      "[1] \"model_3c\"         \"454.680752932735\"\n",
      "[1] \"model_3d\"         \"454.680752932735\"\n"
     ]
    }
   ],
   "source": [
    "print(c('model_1', BIC(seeds.glm.1)))\n",
    "print(c('model_2a', BIC(seeds.glm.2c )))\n",
    "print(c('model_2c', BIC(seeds.glm.2c )))\n",
    "print(c('model_3a', BIC(seeds.glm.3a )))\n",
    "print(c('model_3b', BIC(seeds.glm.3b )))\n",
    "print(c('model_3c', BIC(seeds.glm.3c )))\n",
    "print(c('model_3d', BIC(seeds.glm.3c )))"
   ]
  },
  {
   "cell_type": "code",
   "execution_count": null,
   "metadata": {},
   "outputs": [],
   "source": []
  }
 ],
 "metadata": {
  "kernelspec": {
   "display_name": "R",
   "language": "R",
   "name": "ir"
  },
  "language_info": {
   "codemirror_mode": "r",
   "file_extension": ".r",
   "mimetype": "text/x-r-source",
   "name": "R",
   "pygments_lexer": "r",
   "version": "3.4.1"
  }
 },
 "nbformat": 4,
 "nbformat_minor": 2
}
