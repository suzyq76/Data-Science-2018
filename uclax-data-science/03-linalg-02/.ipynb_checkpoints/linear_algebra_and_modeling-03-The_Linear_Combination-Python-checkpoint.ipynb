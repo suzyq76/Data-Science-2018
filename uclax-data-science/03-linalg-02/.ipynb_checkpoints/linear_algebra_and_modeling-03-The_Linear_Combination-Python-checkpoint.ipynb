{
 "cells": [
  {
   "cell_type": "code",
   "execution_count": 1,
   "metadata": {
    "tags": [
     "remove"
    ]
   },
   "outputs": [],
   "source": [
    "%run preamble.py\n",
    "%matplotlib inline"
   ]
  },
  {
   "cell_type": "markdown",
   "metadata": {},
   "source": [
    "# The Linear Combination\n",
    "\n",
    "The basis of linear algebra is the **vector** and the **linear combination**.\n",
    "\n",
    "## The Vector\n",
    "A vector is a multi-dimensional element. \n",
    "\n",
    "e.g. $(1)$, $(1,3,5,8)$, $(1,2,\\dots,50)$\n",
    "\n",
    "As opposed to a **scalar**\n",
    "\n",
    "e.g. $1, \\sqrt{2}, e, \\pi, 101010, 47$"
   ]
  },
  {
   "cell_type": "markdown",
   "metadata": {},
   "source": [
    "### Scalar Arithmetic\n",
    "\n",
    "- add\n",
    "- subtract\n",
    "- multiply\n",
    "- divide"
   ]
  },
  {
   "cell_type": "markdown",
   "metadata": {},
   "source": [
    "### Vector Arithmetic\n",
    "\n",
    "Vector Arithmetic has two defined operations, *vector addition* and *scalar multiplication*. That is, provided that we have vectors of equal length, we can add two vectors together, and we can multiply a vector by a scalar value. "
   ]
  },
  {
   "cell_type": "markdown",
   "metadata": {},
   "source": [
    "## Vector Addition\n",
    "\n",
    "Here, we add two vectors. This is done by adding corresponding elements of the vector. Note the result is a vector of the same shape, signifying that it is a member of the same vector space.\n",
    "\n",
    "$$(-1,2) + (3,5) = (2,7)$$"
   ]
  },
  {
   "cell_type": "markdown",
   "metadata": {},
   "source": [
    "Note that all three of these vectors are elements of the two-dimensional real-valued vector space, $\\mathbb{R}^2$. We use the symbol $\\in$ to mean \"an element of\" so that we can write"
   ]
  },
  {
   "cell_type": "markdown",
   "metadata": {},
   "source": [
    "$$(-1,2), (3,5), (2,7) \\in \\mathbb{R}^2$$"
   ]
  },
  {
   "cell_type": "markdown",
   "metadata": {},
   "source": [
    "which means that these three vectors are elements of $\\mathbb{R}^2$."
   ]
  },
  {
   "cell_type": "code",
   "execution_count": null,
   "metadata": {},
   "outputs": [],
   "source": [
    "a = np.array((-1,2))\n",
    "b = np.array((3,5))\n",
    "c = a + b\n",
    "c"
   ]
  },
  {
   "cell_type": "code",
   "execution_count": null,
   "metadata": {},
   "outputs": [],
   "source": [
    "a + b == b + a"
   ]
  },
  {
   "cell_type": "code",
   "execution_count": null,
   "metadata": {},
   "outputs": [],
   "source": [
    "initialize_2d_plot(-2,4,-2,10)\n",
    "draw_vector(b)\n",
    "draw_vector(a, tail=b)\n",
    "draw_vector(c, kwargs={'color':'green', 'linewidth':3})\n",
    "draw_vector(a)\n",
    "draw_vector(b, tail=a)"
   ]
  },
  {
   "cell_type": "markdown",
   "metadata": {},
   "source": [
    "### Vector Addition in General\n",
    "\n",
    "Generally, where vector $\\mathbf{u}, \\mathbf{v}, \\mathbf{w} \\in \\mathbb{R}^p$, where $\\mathbb{R}^p$ is a $p$-dimensional real-valued vector space\n",
    "\n",
    "$$\\mathbf{u}+\\mathbf{v} = (u_1,\\dots,u_p) + (v_1,\\dots,v_p) = (u_1+v_1,\\dots,u_p+v_p) = (w_1,\\dots,w_p) = \\mathbf{w}$$"
   ]
  },
  {
   "cell_type": "markdown",
   "metadata": {},
   "source": [
    "---"
   ]
  },
  {
   "cell_type": "markdown",
   "metadata": {},
   "source": [
    "## Scalar Multiplication\n",
    "\n",
    "Here, we add multiply a vector by a scalar value. This is done by multiplying each element of the vector by the scalar. Note the result is a vector of the same shape, signifying that it is a member of the same vector space.\n",
    "\n",
    "$$3\\cdot(-1.5,1.3)=(-4.5,3.9)$$\n",
    "\n",
    "$$(-1.5,1.3), (-4.5,3.9) \\in \\mathbb{R}^2$$"
   ]
  },
  {
   "cell_type": "code",
   "execution_count": null,
   "metadata": {},
   "outputs": [],
   "source": [
    "d = np.array((-1.5,1.3))\n",
    "e = 3*d\n",
    "e"
   ]
  },
  {
   "cell_type": "code",
   "execution_count": null,
   "metadata": {},
   "outputs": [],
   "source": [
    "initialize_2d_plot(-5,1,-1,5)\n",
    "draw_vector(e, kwargs={'color':'green', 'linewidth':6})\n",
    "draw_vector(d)\n",
    "draw_vector(d, tail=d)\n",
    "draw_vector(d, tail=d+d)"
   ]
  },
  {
   "cell_type": "markdown",
   "metadata": {},
   "source": [
    "### Scalar Multiplication in General\n",
    "\n",
    "Generally, with vectors $\\mathbf{u}, \\mathbf{v} \\in \\mathbb{R}^p$, where $\\mathbb{R}^p$ is a $p$-dimensional real-valued vector space and scalar $\\beta \\in \\mathbb{R}$\n",
    "\n",
    "$$\\beta\\mathbf{u}=\\beta(u_1,\\dots,u_p)=(\\beta u_1, \\dots, \\beta u_p) = (v_1,\\dots,v_p) = \\mathbf{v}$$"
   ]
  },
  {
   "cell_type": "markdown",
   "metadata": {},
   "source": [
    "---"
   ]
  },
  {
   "cell_type": "markdown",
   "metadata": {},
   "source": [
    "## The Linear Combination \n",
    "\n",
    "A linear combination is the vector result of a vector addition and scalar multiplication of vectors. "
   ]
  },
  {
   "cell_type": "code",
   "execution_count": null,
   "metadata": {},
   "outputs": [],
   "source": [
    "f = np.array((-1,1))\n",
    "g = np.array((2,-1))\n",
    "h = 2*f + 3*g"
   ]
  },
  {
   "cell_type": "code",
   "execution_count": null,
   "metadata": {},
   "outputs": [],
   "source": [
    "initialize_2d_plot(-3,5,-2,3)\n",
    "draw_vector(h, kwargs={'color':'green', 'linewidth':6})\n",
    "draw_vector(2*f)\n",
    "draw_vector(3*g, tail=2*f)"
   ]
  },
  {
   "cell_type": "markdown",
   "metadata": {},
   "source": [
    "### Linear Combination in General\n",
    "\n",
    "Generally, with vectors $\\mathbf{u}, \\mathbf{v}, \\mathbf{w} \\in \\mathbb{R}^p$, where $\\mathbb{R}^p$ is a $p$-dimensional real-valued vector space and scalars $\\beta, \\gamma \\in \\mathbb{R}$\n",
    "\n",
    "$$\\beta\\mathbf{u}+\\gamma\\mathbf{v}=\\beta(u_1,\\dots,u_p)+\\gamma(v_1,\\dots,v_p)=(\\beta u_1+\\gamma v_1, \\dots, \\beta u_p + \\gamma v_p) = (w_1,\\dots,w_p) = \\mathbf{w}$$\n",
    "\n",
    "---"
   ]
  },
  {
   "cell_type": "code",
   "execution_count": null,
   "metadata": {},
   "outputs": [],
   "source": []
  }
 ],
 "metadata": {
  "kernelspec": {
   "display_name": "Python 3",
   "language": "python",
   "name": "python3"
  },
  "language_info": {
   "codemirror_mode": {
    "name": "ipython",
    "version": 3
   },
   "file_extension": ".py",
   "mimetype": "text/x-python",
   "name": "python",
   "nbconvert_exporter": "python",
   "pygments_lexer": "ipython3",
   "version": "3.6.4"
  }
 },
 "nbformat": 4,
 "nbformat_minor": 2
}
