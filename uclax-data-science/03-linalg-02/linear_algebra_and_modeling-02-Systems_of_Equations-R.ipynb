{
 "cells": [
  {
   "cell_type": "markdown",
   "metadata": {},
   "source": [
    "# A System of Linear Equations\n",
    "\n",
    "Consider the system of equations:\n",
    "\n",
    "$$y = 3x - 2$$\n",
    "\n",
    "$$y = -5x + 6$$"
   ]
  },
  {
   "cell_type": "code",
   "execution_count": null,
   "metadata": {},
   "outputs": [],
   "source": [
    "xx = seq(-1, 2, by=.1)"
   ]
  },
  {
   "cell_type": "code",
   "execution_count": null,
   "metadata": {},
   "outputs": [],
   "source": [
    "xx"
   ]
  },
  {
   "cell_type": "code",
   "execution_count": null,
   "metadata": {},
   "outputs": [],
   "source": [
    "yy1 = 3*xx - 2\n",
    "yy2 = -5*xx + 6"
   ]
  },
  {
   "cell_type": "code",
   "execution_count": null,
   "metadata": {},
   "outputs": [],
   "source": [
    "library(repr)"
   ]
  },
  {
   "cell_type": "code",
   "execution_count": null,
   "metadata": {},
   "outputs": [],
   "source": [
    "options(repr.plot.width=12, repr.plot.height=6)\n",
    "plot(xx, yy1, ylim=c(-7,15), xlim=c(-1,2))\n",
    "points(xx, yy2)\n",
    "abline(h=0); abline(v=0)"
   ]
  },
  {
   "cell_type": "markdown",
   "metadata": {},
   "source": [
    "## The Solution\n",
    "\n",
    "The solution to this system of equations is a hyperplane in one less dimension than the two equations. Each equation is a line, a 1-D hyperplane. The hyperplane describing their intersection is a point a 0-D hyperplane.\n",
    "\n",
    "### Find the Solution Analytically\n",
    "\n",
    "\\begin{align}\n",
    "y &= 3x - 2\\\\\n",
    "y &= -5x + 6\\\\\n",
    "3x-2&=-5x+6\\tag{both are equal to $y$}\\\\\n",
    "8x &= 8\\\\\n",
    "x &=1\\\\\n",
    "y &= 3\\cdot1 - 2 = 1\\tag{plug $x$=1 into the first equation}\\\\\n",
    "y &= -5\\cdot1 + 6 = 1\\tag{plug $x$=1 into the second equation}\n",
    "\\end{align}\n",
    "Both equations yield $y=1$ implying that our solution is $(1,1)$.\n"
   ]
  },
  {
   "cell_type": "markdown",
   "metadata": {},
   "source": [
    " "
   ]
  },
  {
   "cell_type": "markdown",
   "metadata": {},
   "source": [
    " "
   ]
  },
  {
   "cell_type": "code",
   "execution_count": null,
   "metadata": {},
   "outputs": [],
   "source": [
    "options(repr.plot.width=12, repr.plot.height=6)\n",
    "plot(xx, yy1, ylim=c(-10,20), xlim=c(-1,2), col=\"red\")\n",
    "points(xx, yy2, col=\"green\")\n",
    "# plot the solution \n",
    "points(1, 1, col=\"blue\")\n",
    "abline(h=0); abline(v=0)"
   ]
  }
 ],
 "metadata": {
  "kernelspec": {
   "display_name": "R",
   "language": "R",
   "name": "ir"
  },
  "language_info": {
   "codemirror_mode": "r",
   "file_extension": ".r",
   "mimetype": "text/x-r-source",
   "name": "R",
   "pygments_lexer": "r",
   "version": "3.4.1"
  }
 },
 "nbformat": 4,
 "nbformat_minor": 2
}
