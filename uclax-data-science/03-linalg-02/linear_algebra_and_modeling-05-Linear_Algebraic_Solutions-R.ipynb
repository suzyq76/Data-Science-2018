{
 "cells": [
  {
   "cell_type": "markdown",
   "metadata": {},
   "source": [
    "$\\newcommand{\\x}{\\mathbf{x}}$\n",
    "$\\newcommand{\\b}{\\mathbf{b}}$\n",
    "# Linear Algebraic Solutions\n",
    "\n",
    "#### A System of Linear Equations\n",
    "\n",
    "$$y = 3x - 2$$\n",
    "\n",
    "$$y = -5x + 6$$\n",
    "\n",
    "Our system in standard form, where we change our to two variables to $x_1$ and $x_2$:\n",
    "$$-3x_1 + x_2 = -2$$\n",
    "$$5x_1 + x_2 = 6$$\n",
    "\n",
    "Can be rewritten as\n",
    "\n",
    "$$(-3,1)^T(x_1,x_2)=-2$$\n",
    "$$(5,1)^T(x_1,x_2)=6$$\n",
    "\n",
    "$$\\left(\\begin{matrix}-3&1\\end{matrix}\\right)\\left(\\begin{matrix}x_1\\\\x_2\\end{matrix}\\right)=-2$$\n",
    "$$\\left(\\begin{matrix}5 &1\\end{matrix}\\right)\\left(\\begin{matrix}x_1\\\\x_2\\end{matrix}\\right)=6$$\n",
    "\n",
    "$$\\left(\\begin{matrix}-3&1\\\\5 &1\\end{matrix}\\right)\\left(\\begin{matrix}x_1\\\\x_2\\end{matrix}\\right)=\\left(\\begin{matrix}-2\\\\6\\end{matrix}\\right)$$\n",
    "\n",
    "Let\n",
    "$$A = \\left(\\begin{matrix}-3&1\\\\5 &1\\end{matrix}\\right)$$\n",
    "$$\\mathbf{x}=\\left(\\begin{matrix}x_1\\\\x_2\\end{matrix}\\right)$$\n",
    "$$\\mathbf{b}=\\left(\\begin{matrix}-2\\\\6\\end{matrix}\\right)$$\n",
    "\n",
    "Now\n",
    "\n",
    "$$A\\mathbf{x}=\\mathbf{b}$$\n",
    "\n",
    "represents\n",
    "\n",
    "$$y = 3x - 2$$\n",
    "$$y = -5x + 6$$\n",
    "\n",
    "Where the vector $\\mathbf{x} = (x_1, x_2) = (x, y)$."
   ]
  },
  {
   "cell_type": "markdown",
   "metadata": {},
   "source": [
    "### Solving Algebraic Equations\n",
    "\n",
    "If we had some simple problem like \n",
    "\n",
    "$$a\\cdot x = b$$\n",
    "\n",
    "we could solve this simply by dividing both sides by $a$. \n",
    "\n",
    "&nbsp;\n",
    "\n",
    "&nbsp;\n",
    "\n",
    "#### Division is actually multiplication by the Inverse\n",
    "\n",
    "Another way to say this is that we multiply both sides by the multiplicative inverse of $a$, which is $\\frac{1}{a}$.\n",
    "\n",
    "&nbsp; \n",
    "\n",
    "&nbsp;\n",
    "\n",
    "&nbsp;\n",
    "\n",
    "### The Identity and the Inverse\n",
    "\n",
    "$I$ is the identity matrix, which is very similar to the value 1 for a scalar. \n",
    "\n",
    "For a scalar \n",
    "\n",
    "$$1\\cdot\\alpha = \\alpha$$\n",
    "\n",
    "For a matrix\n",
    "\n",
    "$$IA = A$$\n",
    "\n",
    "## WE CAN NOT DIVIDE VECTORS\n",
    "\n",
    "In some cases, we can take the inverse.\n",
    "\n",
    "$$A^{-1}A = I$$\n",
    "\n",
    "We have\n",
    "\n",
    "$$A\\mathbf{x}=\\mathbf{b}$$\n",
    "\n",
    "If the inverse of $A$ exists\n",
    "\n",
    "then\n",
    "\n",
    "\\begin{align}\n",
    "A\\mathbf{x}&=\\mathbf{b}\\\\\n",
    "A^{-1}A\\mathbf{x}&=A^{-1}\\mathbf{b}\\\\\n",
    "I\\mathbf{x}&=A^{-1}\\mathbf{b}\\tag{By definition of the inverse of $A$}\\\\\n",
    "\\mathbf{x}&=A^{-1}\\mathbf{b}\\tag{By the property of the inverse}\n",
    "\\end{align}"
   ]
  },
  {
   "cell_type": "markdown",
   "metadata": {},
   "source": [
    "## Linear Algebra Solutions in R\n",
    "\n",
    "### `solve` \n",
    "\n",
    "We can solve systems of linear equations in R using the `solve` function.\n",
    "\n",
    "What does the R function `solve` do?"
   ]
  },
  {
   "cell_type": "code",
   "execution_count": null,
   "metadata": {},
   "outputs": [],
   "source": [
    "solve(3, 6)"
   ]
  },
  {
   "cell_type": "markdown",
   "metadata": {},
   "source": [
    "Here, we have solved the algebraic expression \n",
    "\n",
    "$$3x=6$$\n",
    "\n",
    "`solve(a,b)` returns the result of $a^{-1}b$.\n",
    "\n",
    "$$3^{-1}6=2$$\n",
    "\n",
    "This becomes more complicated when considering vector results."
   ]
  },
  {
   "cell_type": "code",
   "execution_count": null,
   "metadata": {},
   "outputs": [],
   "source": [
    "solve(2,t(c(3,6)))"
   ]
  },
  {
   "cell_type": "markdown",
   "metadata": {},
   "source": [
    "Here we solve \n",
    "\n",
    "$$2\\mathbf{x} = (3, 6)$$"
   ]
  }
 ],
 "metadata": {
  "kernelspec": {
   "display_name": "R",
   "language": "R",
   "name": "ir"
  },
  "language_info": {
   "codemirror_mode": "r",
   "file_extension": ".r",
   "mimetype": "text/x-r-source",
   "name": "R",
   "pygments_lexer": "r",
   "version": "3.4.1"
  }
 },
 "nbformat": 4,
 "nbformat_minor": 2
}
