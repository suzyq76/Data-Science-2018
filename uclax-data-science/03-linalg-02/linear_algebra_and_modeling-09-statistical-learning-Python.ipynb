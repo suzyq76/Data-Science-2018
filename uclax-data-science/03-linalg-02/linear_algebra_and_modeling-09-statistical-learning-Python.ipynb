{
 "cells": [
  {
   "cell_type": "code",
   "execution_count": null,
   "metadata": {
    "tags": [
     "remove"
    ]
   },
   "outputs": [],
   "source": [
    "%run ../preamble.py\n",
    "%matplotlib inline"
   ]
  },
  {
   "cell_type": "markdown",
   "metadata": {},
   "source": [
    "# Statistical Learning"
   ]
  },
  {
   "cell_type": "markdown",
   "metadata": {},
   "source": [
    "> Statistical learning theory deals with the problem of finding a predictive function based on data. [wikipedia](https://en.wikipedia.org/wiki/Statistical_learning_theory)"
   ]
  },
  {
   "cell_type": "markdown",
   "metadata": {},
   "source": [
    "We observe:\n",
    "\n",
    "- a set of **input** predictors $\\left(\\mathbf{X} = X_1, X_2, \\dots, X_P\\right)$\n",
    "- **output** response $\\left(Y\\right)$. \n",
    "\n",
    "We assume that there is some relationship between $Y$ and $\\mathbf{X}$ that is, that there is some function $f$ such that $f$ maps $\\mathbf{X}$ to $Y$ i.e.\n",
    "\n",
    "$$f: \\mathbf{X}\\mapsto Y$$\n",
    "\n",
    "Then, this relationship can be written in some general form \n",
    "\n",
    "$$Y=f\\left(\\mathbf{X}\\right)+\\varepsilon$$\n",
    "\n",
    "Here:\n",
    "\n",
    "* $\\mathbf{X}$ is our input\n",
    "* $Y$ is our output \n",
    "* $f$ is a fixed but unknown function\n",
    "* $\\varepsilon$ is an error term"
   ]
  },
  {
   "cell_type": "markdown",
   "metadata": {},
   "source": [
    "## Statistical Learning\n",
    "In essence, statistical learning refers to a set of approaches for estimating $f$, that is the function defining the distribution of our data."
   ]
  },
  {
   "cell_type": "markdown",
   "metadata": {},
   "source": [
    "### The `Advertising` data set. \n",
    "The plot displays `sales`, in thousands of units, as a function of `TV`, `radio`, and `newspaper` budgets, in thousands of dollars, for 200 different markets. "
   ]
  },
  {
   "cell_type": "code",
   "execution_count": null,
   "metadata": {},
   "outputs": [],
   "source": [
    "fig = plt.figure(figsize=(20,4))\n",
    "adv_df = pd.read_csv('Advertising.csv')\n",
    "features = ['TV', 'Radio', 'Newspaper']\n",
    "for i, feature in enumerate(features):\n",
    "    fig.add_subplot(1,3,i+1)\n",
    "    sns.regplot(adv_df[feature], adv_df['Sales'])"
   ]
  },
  {
   "cell_type": "markdown",
   "metadata": {},
   "source": [
    "Here, we have assumed that there is a linear relationship between each of these inputs and the output `sales` and used the Seaborn tool `regplot` to generate a line of best fit for the data. `sns.regplot` has learned from the data and prepared a linear model that could be used to predict future sales.   "
   ]
  }
 ],
 "metadata": {
  "kernelspec": {
   "display_name": "Python 3",
   "language": "python",
   "name": "python3"
  },
  "language_info": {
   "codemirror_mode": {
    "name": "ipython",
    "version": 3
   },
   "file_extension": ".py",
   "mimetype": "text/x-python",
   "name": "python",
   "nbconvert_exporter": "python",
   "pygments_lexer": "ipython3",
   "version": "3.6.5"
  }
 },
 "nbformat": 4,
 "nbformat_minor": 2
}
