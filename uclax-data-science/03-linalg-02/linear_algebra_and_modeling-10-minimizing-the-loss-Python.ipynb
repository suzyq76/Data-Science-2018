{
 "cells": [
  {
   "cell_type": "code",
   "execution_count": null,
   "metadata": {
    "tags": [
     "remove"
    ]
   },
   "outputs": [],
   "source": [
    "%run ../preamble.py\n",
    "%matplotlib inline"
   ]
  },
  {
   "cell_type": "markdown",
   "metadata": {},
   "source": [
    "# Minimizing the Loss"
   ]
  },
  {
   "cell_type": "markdown",
   "metadata": {},
   "source": [
    "We have thus far framed the problem as \n",
    "\n",
    "Given $(-3.1,4.2)$, $(-2.1,2.4)$, $(1.8,-2.5)$, $(0.5,-1.3)$, $(-1.1,1.9)$, we seek $\\beta = (\\beta_0,\\beta_1)$ so that\n",
    "\n",
    "$$\n",
    "\\left(\\begin{matrix}1&-3.1\\\\1&-2.1\\\\1&1.8\\\\1&0.5\\\\1&-1.1\\end{matrix}\\right)\n",
    "\\left(\\begin{matrix}\\beta_0\\\\\\beta_1\\end{matrix}\\right)=\\left(\\begin{matrix}4.2\\\\2.4\\\\-2.5\\\\-1.3\\\\1.9\\end{matrix}\\right)$$\n",
    "\n",
    "$$X\\beta=\\mathbf{y}$$"
   ]
  },
  {
   "cell_type": "markdown",
   "metadata": {},
   "source": [
    "If we think of this in terms of statistical learning, we can add in some element of error and assume that the relationship between our inputs and outputs can be represented by \n",
    "\n",
    "$$Y=f\\left(\\mathbf{X}\\right)+\\varepsilon = X\\beta  + \\varepsilon$$\n"
   ]
  },
  {
   "cell_type": "markdown",
   "metadata": {},
   "source": [
    "Let us reformulate this as \n",
    "\n",
    "$$ \\varepsilon = X\\beta  - Y $$\n",
    "\n",
    "Note that we don't care what the sign of the error is, we just want it to be small!"
   ]
  },
  {
   "cell_type": "markdown",
   "metadata": {},
   "source": [
    "Here, $\\varepsilon$ is a vector of errors, one element for each instance in our dataset. "
   ]
  },
  {
   "cell_type": "markdown",
   "metadata": {},
   "source": [
    "### The Magnitude of the Error Vector"
   ]
  },
  {
   "cell_type": "markdown",
   "metadata": {},
   "source": [
    "We recall that the magnitude of the error vector is given by the dot product."
   ]
  },
  {
   "cell_type": "markdown",
   "metadata": {},
   "source": [
    "$$ \\rvert\\rvert\\varepsilon\\rvert\\rvert = \\sqrt{\\sum_{i=1}^n \\epsilon_i^2} = \\sqrt{\\varepsilon^T \\varepsilon}\n",
    "$$\n",
    "\n",
    "For convenience, we will let the square of the magnitude stand in and simply consider $\\varepsilon^T \\varepsilon$. We will define this as our **loss function**, a function of our $\\beta$ vector,\n",
    "\n",
    "$$\\mathcal{L}(\\beta) = \\varepsilon^T \\varepsilon$$"
   ]
  },
  {
   "cell_type": "markdown",
   "metadata": {},
   "source": [
    "### Infinite Possibilities"
   ]
  },
  {
   "cell_type": "markdown",
   "metadata": {},
   "source": [
    "We have established a form for this function. We have decided that it has the form \n",
    "\n",
    "$$\\widehat{Y} = \\widehat{f}(\\mathbf{X}) = \\beta_0 + \\beta_1x$$\n",
    "\n",
    "Consider how many different $\\widehat{f}$ functions there are. $\\beta_0$ could be anything from $-\\infty$ to $\\infty$, as could $\\beta_1$. In order to determine the \"best\" $\\widehat{f}$ we will seek the $\\beta$ vector that minimizes the loss function $\\mathcal{L}$."
   ]
  },
  {
   "cell_type": "markdown",
   "metadata": {},
   "source": [
    "### Reframing in terms of \"best\" fit"
   ]
  },
  {
   "cell_type": "markdown",
   "metadata": {},
   "source": [
    "Given $(-3.1,4.2)$, $(-2.1,2.4)$, $(1.8,-2.5)$, $(0.5,-1.3)$, $(-1.1,1.9)$, we seek $\\beta = (\\beta_0,\\beta_1)$ so that for\n",
    "\n",
    "$$\n",
    "\\left(\\begin{matrix}1&-3.1\\\\1&-2.1\\\\1&1.8\\\\1&0.5\\\\1&-1.1\\end{matrix}\\right)\n",
    "\\left(\\begin{matrix}\\beta_0\\\\\\beta_1\\end{matrix}\\right)\\approx\\left(\\begin{matrix}4.2\\\\2.4\\\\-2.5\\\\-1.3\\\\1.9\\end{matrix}\\right)$$\n",
    "\n",
    "$$X\\beta\\approx\\mathbf{y}$$\n",
    "\n",
    "and with error \n",
    "\n",
    "$$ \\varepsilon = X\\beta  - \\mathbf{y} $$\n",
    "\n",
    "the loss function \n",
    "\n",
    "$$\\mathcal{L}(\\beta) = \\varepsilon^T \\varepsilon$$\n",
    "\n",
    "is at a minimum."
   ]
  }
 ],
 "metadata": {
  "kernelspec": {
   "display_name": "Python 3",
   "language": "python",
   "name": "python3"
  },
  "language_info": {
   "codemirror_mode": {
    "name": "ipython",
    "version": 3
   },
   "file_extension": ".py",
   "mimetype": "text/x-python",
   "name": "python",
   "nbconvert_exporter": "python",
   "pygments_lexer": "ipython3",
   "version": "3.6.5"
  }
 },
 "nbformat": 4,
 "nbformat_minor": 2
}
