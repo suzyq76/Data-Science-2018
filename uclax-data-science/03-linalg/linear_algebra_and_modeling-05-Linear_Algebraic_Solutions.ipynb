{
 "cells": [
  {
   "cell_type": "markdown",
   "metadata": {},
   "source": [
    "$\\newcommand{\\x}{\\mathbf{x}}$\n",
    "$\\newcommand{\\b}{\\mathbf{b}}$\n",
    "# Linear Algebraic Solutions"
   ]
  },
  {
   "cell_type": "markdown",
   "metadata": {},
   "source": [
    "## A System of Linear Equations\n",
    "\n",
    "Back to our system of linear equations.\n",
    "\n",
    "\\begin{align}\n",
    "y &= 3x - 2\\\\\n",
    "y &= -5x + 6\n",
    "\\end{align}"
   ]
  },
  {
   "cell_type": "markdown",
   "metadata": {},
   "source": [
    "### Rewriting the System in Matrix Form\n",
    "\n",
    "Where the vector $\\mathbf{x} = (x_1, x_2) = (x, y)$.\n",
    "\n",
    "&nbsp;\n",
    "\n",
    "&nbsp;\n",
    "\n",
    "&nbsp;\n",
    "\n",
    "&nbsp;\n",
    "\n",
    "&nbsp;\n",
    "\n",
    "&nbsp;\n",
    "\n",
    "&nbsp;"
   ]
  },
  {
   "cell_type": "markdown",
   "metadata": {},
   "source": [
    "### Solving Algebraic Equations\n",
    "\n",
    "If we had some simple problem like \n",
    "\n",
    "$$a\\cdot x = b$$\n",
    "\n",
    "we could solve this simply by dividing both sides by $a$. \n",
    "\n",
    "&nbsp;\n",
    "\n",
    "&nbsp;\n",
    "\n",
    "#### Division is actually multiplication by the Inverse\n",
    "\n",
    "Another way to say this is that we multiply both sides by the multiplicative inverse of $a$, which is $\\frac{1}{a}$.\n",
    "\n",
    "&nbsp; \n",
    "\n",
    "&nbsp;\n",
    "\n",
    "&nbsp;"
   ]
  },
  {
   "cell_type": "markdown",
   "metadata": {},
   "source": [
    "### The Identity and the Inverse\n",
    "\n",
    "$I$ is the identity matrix, which is very similar to the value 1 for a scalar. \n",
    "\n",
    "For a scalar \n",
    "\n",
    "$$1\\cdot\\alpha = \\alpha$$\n",
    "\n",
    "For a matrix\n",
    "\n",
    "$$IA = A$$\n",
    "\n",
    "#### WE CAN NOT DIVIDE VECTORS\n",
    "\n",
    "In some cases, we can take the inverse.\n",
    "\n",
    "$$A^{-1}A = I$$\n",
    "\n",
    "---\n",
    "\n",
    "Consider our system described in matrix form\n",
    "\n",
    "$$A\\mathbf{x}=\\mathbf{b}$$\n",
    "\n",
    "If the inverse of $A$ exists\n",
    "\n",
    "then \n",
    "\n",
    "&nbsp;\n",
    "\n",
    "&nbsp;\n",
    "\n",
    "&nbsp;\n",
    "\n",
    "&nbsp;\n",
    "\n",
    "&nbsp;"
   ]
  },
  {
   "cell_type": "markdown",
   "metadata": {},
   "source": [
    "## Linear Algebra Solutions in R"
   ]
  },
  {
   "cell_type": "markdown",
   "metadata": {},
   "source": [
    "### `solve` \n",
    "\n",
    "We can solve systems of linear equations in R using the `solve` function."
   ]
  },
  {
   "cell_type": "markdown",
   "metadata": {},
   "source": [
    "What does the R function `solve` do?"
   ]
  },
  {
   "cell_type": "code",
   "execution_count": null,
   "metadata": {},
   "outputs": [],
   "source": [
    "solve(3, 6)"
   ]
  },
  {
   "cell_type": "markdown",
   "metadata": {},
   "source": [
    "Here, we have solved the algebraic expression \n",
    "\n",
    "$$3x=6$$"
   ]
  },
  {
   "cell_type": "markdown",
   "metadata": {},
   "source": [
    "`solve(a,b)` returns the result of $a^{-1}b$."
   ]
  },
  {
   "cell_type": "markdown",
   "metadata": {},
   "source": [
    "$$3^{-1}6=2$$"
   ]
  },
  {
   "cell_type": "markdown",
   "metadata": {},
   "source": [
    "This becomes more complicated when considering vector results."
   ]
  },
  {
   "cell_type": "code",
   "execution_count": null,
   "metadata": {},
   "outputs": [],
   "source": [
    "solve(2,t(c(3,6)))"
   ]
  },
  {
   "cell_type": "markdown",
   "metadata": {},
   "source": [
    "Here we solve \n",
    "\n",
    "$$2\\mathbf{x} = (3, 6)$$"
   ]
  }
 ],
 "metadata": {
  "kernelspec": {
   "display_name": "R",
   "language": "R",
   "name": "ir"
  },
  "language_info": {
   "codemirror_mode": "r",
   "file_extension": ".r",
   "mimetype": "text/x-r-source",
   "name": "R",
   "pygments_lexer": "r",
   "version": "3.4.1"
  }
 },
 "nbformat": 4,
 "nbformat_minor": 2
}
