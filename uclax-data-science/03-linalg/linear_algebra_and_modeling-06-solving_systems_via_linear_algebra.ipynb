{
 "cells": [
  {
   "cell_type": "markdown",
   "metadata": {},
   "source": [
    "$\\newcommand{\\x}{\\mathbf{x}}$\n",
    "$\\newcommand{\\b}{\\mathbf{b}}$\n",
    "# Solving Systems via Linear Algebra"
   ]
  },
  {
   "cell_type": "markdown",
   "metadata": {},
   "source": [
    "## A System of Linear Equations\n",
    "\n",
    "Back to our system of linear equations.\n",
    "\n",
    "\\begin{align}\n",
    "y &= 3x - 2\\\\\n",
    "y &= -5x + 6\n",
    "\\end{align}"
   ]
  },
  {
   "cell_type": "markdown",
   "metadata": {},
   "source": [
    "### In Matrix Form\n",
    "\n",
    "We can write the same system as \n",
    "\n",
    "\n",
    "$$A\\x=\\b$$"
   ]
  },
  {
   "cell_type": "markdown",
   "metadata": {},
   "source": [
    "And we can define these in R in the following way:"
   ]
  },
  {
   "cell_type": "code",
   "execution_count": null,
   "metadata": {},
   "outputs": [],
   "source": [
    "A = matrix(c(-3,5,1,1),ncol = 2)\n",
    "b = c(-2,6)"
   ]
  },
  {
   "cell_type": "code",
   "execution_count": null,
   "metadata": {},
   "outputs": [],
   "source": [
    "A; b"
   ]
  },
  {
   "cell_type": "markdown",
   "metadata": {},
   "source": [
    "### R can solve this for us!"
   ]
  },
  {
   "cell_type": "code",
   "execution_count": null,
   "metadata": {},
   "outputs": [],
   "source": [
    "solve(A, b)"
   ]
  },
  {
   "cell_type": "markdown",
   "metadata": {},
   "source": [
    "#### Does this match the solution we found previously?"
   ]
  }
 ],
 "metadata": {
  "kernelspec": {
   "display_name": "R",
   "language": "R",
   "name": "ir"
  },
  "language_info": {
   "codemirror_mode": "r",
   "file_extension": ".r",
   "mimetype": "text/x-r-source",
   "name": "R",
   "pygments_lexer": "r",
   "version": "3.3.2"
  }
 },
 "nbformat": 4,
 "nbformat_minor": 2
}
