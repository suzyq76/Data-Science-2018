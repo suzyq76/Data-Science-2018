{
 "cells": [
  {
   "cell_type": "code",
   "execution_count": 1,
   "metadata": {},
   "outputs": [
    {
     "name": "stdout",
     "output_type": "stream",
     "text": [
      "Collecting psycopg2\n",
      "  Downloading https://files.pythonhosted.org/packages/92/15/92b5c363243376ce9cb879bbec561bba196694eb663a6937b4cb967e230e/psycopg2-2.7.4-cp36-cp36m-manylinux1_x86_64.whl (2.7MB)\n",
      "\u001b[K    100% |████████████████████████████████| 2.7MB 257kB/s eta 0:00:01\n",
      "\u001b[?25hInstalling collected packages: psycopg2\n",
      "Successfully installed psycopg2-2.7.4\n",
      "\u001b[33mYou are using pip version 9.0.1, however version 10.0.1 is available.\n",
      "You should consider upgrading via the 'pip install --upgrade pip' command.\u001b[0m\n"
     ]
    }
   ],
   "source": [
    "!pip install psycopg2"
   ]
  },
  {
   "cell_type": "code",
   "execution_count": 3,
   "metadata": {},
   "outputs": [
    {
     "name": "stderr",
     "output_type": "stream",
     "text": [
      "/opt/conda/lib/python3.6/site-packages/psycopg2/__init__.py:144: UserWarning: The psycopg2 wheel package will be renamed from release 2.8; in order to keep installing from binary please use \"pip install psycopg2-binary\" instead. For details see: <http://initd.org/psycopg/docs/install.html#binary-install-from-pypi>.\n",
      "  \"\"\")\n"
     ]
    }
   ],
   "source": [
    "import psycopg2"
   ]
  },
  {
   "cell_type": "code",
   "execution_count": 11,
   "metadata": {},
   "outputs": [],
   "source": [
    "connection = psycopg2.connect(host='18.188.42.83', \n",
    "                              user='postgres', \n",
    "                              database='postgres')\n",
    "cursor = connection.cursor()\n",
    "cursor.execute(\"SELECT * FROM bc_data limit 2;\")\n",
    "results = cursor.fetchall()\n",
    "connection.close()"
   ]
  },
  {
   "cell_type": "code",
   "execution_count": 6,
   "metadata": {},
   "outputs": [],
   "source": [
    "cursor = connection.cursor()"
   ]
  },
  {
   "cell_type": "code",
   "execution_count": 7,
   "metadata": {},
   "outputs": [],
   "source": [
    "cursor.execute(\"SELECT * FROM bc_data limit 2;\")"
   ]
  },
  {
   "cell_type": "code",
   "execution_count": 9,
   "metadata": {},
   "outputs": [
    {
     "data": {
      "text/plain": [
       "[(1000025, 5, 1, 1, 1, 2, 1, 3, 1, 1, 2),\n",
       " (1002945, 5, 4, 4, 5, 7, 10, 3, 2, 1, 2)]"
      ]
     },
     "execution_count": 9,
     "metadata": {},
     "output_type": "execute_result"
    }
   ],
   "source": [
    "cursor.fetchall()"
   ]
  },
  {
   "cell_type": "code",
   "execution_count": 10,
   "metadata": {},
   "outputs": [],
   "source": [
    "connection.close()"
   ]
  },
  {
   "cell_type": "code",
   "execution_count": 12,
   "metadata": {},
   "outputs": [
    {
     "data": {
      "text/plain": [
       "[(1000025, 5, 1, 1, 1, 2, 1, 3, 1, 1, 2),\n",
       " (1002945, 5, 4, 4, 5, 7, 10, 3, 2, 1, 2)]"
      ]
     },
     "execution_count": 12,
     "metadata": {},
     "output_type": "execute_result"
    }
   ],
   "source": [
    "results"
   ]
  },
  {
   "cell_type": "code",
   "execution_count": 15,
   "metadata": {},
   "outputs": [],
   "source": [
    "from psycopg2.extras import RealDictCursor"
   ]
  },
  {
   "cell_type": "code",
   "execution_count": 16,
   "metadata": {},
   "outputs": [],
   "source": [
    "connection = psycopg2.connect(host='18.188.42.83', \n",
    "                              user='postgres', \n",
    "                              database='postgres')\n",
    "cursor = connection.cursor(cursor_factory=RealDictCursor)\n",
    "cursor.execute(\"SELECT * FROM bc_data limit 5;\")\n",
    "results = cursor.fetchall()\n",
    "connection.close()"
   ]
  },
  {
   "cell_type": "code",
   "execution_count": 18,
   "metadata": {},
   "outputs": [],
   "source": [
    "import pandas as pd"
   ]
  },
  {
   "cell_type": "markdown",
   "metadata": {},
   "source": [
    "Displays SQL in a datafram"
   ]
  },
  {
   "cell_type": "code",
   "execution_count": 21,
   "metadata": {},
   "outputs": [
    {
     "data": {
      "text/html": [
       "<div>\n",
       "<table border=\"1\" class=\"dataframe\">\n",
       "  <thead>\n",
       "    <tr style=\"text-align: right;\">\n",
       "      <th></th>\n",
       "      <th>bare_nuclei</th>\n",
       "      <th>bland_chromatin</th>\n",
       "      <th>class</th>\n",
       "      <th>clump_thickness</th>\n",
       "      <th>marginal_adhesion</th>\n",
       "      <th>mitoses</th>\n",
       "      <th>normal_nucleoli</th>\n",
       "      <th>sample_id</th>\n",
       "      <th>single_epithelial_cell_size</th>\n",
       "      <th>uniformity_of_cell_shape</th>\n",
       "      <th>uniformity_of_cell_size</th>\n",
       "    </tr>\n",
       "  </thead>\n",
       "  <tbody>\n",
       "    <tr>\n",
       "      <th>0</th>\n",
       "      <td>1</td>\n",
       "      <td>3</td>\n",
       "      <td>2</td>\n",
       "      <td>5</td>\n",
       "      <td>1</td>\n",
       "      <td>1</td>\n",
       "      <td>1</td>\n",
       "      <td>1000025</td>\n",
       "      <td>2</td>\n",
       "      <td>1</td>\n",
       "      <td>1</td>\n",
       "    </tr>\n",
       "    <tr>\n",
       "      <th>1</th>\n",
       "      <td>10</td>\n",
       "      <td>3</td>\n",
       "      <td>2</td>\n",
       "      <td>5</td>\n",
       "      <td>5</td>\n",
       "      <td>1</td>\n",
       "      <td>2</td>\n",
       "      <td>1002945</td>\n",
       "      <td>7</td>\n",
       "      <td>4</td>\n",
       "      <td>4</td>\n",
       "    </tr>\n",
       "    <tr>\n",
       "      <th>2</th>\n",
       "      <td>2</td>\n",
       "      <td>3</td>\n",
       "      <td>2</td>\n",
       "      <td>3</td>\n",
       "      <td>1</td>\n",
       "      <td>1</td>\n",
       "      <td>1</td>\n",
       "      <td>1015425</td>\n",
       "      <td>2</td>\n",
       "      <td>1</td>\n",
       "      <td>1</td>\n",
       "    </tr>\n",
       "    <tr>\n",
       "      <th>3</th>\n",
       "      <td>4</td>\n",
       "      <td>3</td>\n",
       "      <td>2</td>\n",
       "      <td>6</td>\n",
       "      <td>1</td>\n",
       "      <td>1</td>\n",
       "      <td>7</td>\n",
       "      <td>1016277</td>\n",
       "      <td>3</td>\n",
       "      <td>8</td>\n",
       "      <td>8</td>\n",
       "    </tr>\n",
       "    <tr>\n",
       "      <th>4</th>\n",
       "      <td>1</td>\n",
       "      <td>3</td>\n",
       "      <td>2</td>\n",
       "      <td>4</td>\n",
       "      <td>3</td>\n",
       "      <td>1</td>\n",
       "      <td>1</td>\n",
       "      <td>1017023</td>\n",
       "      <td>2</td>\n",
       "      <td>1</td>\n",
       "      <td>1</td>\n",
       "    </tr>\n",
       "  </tbody>\n",
       "</table>\n",
       "</div>"
      ],
      "text/plain": [
       "   bare_nuclei  bland_chromatin  class  clump_thickness  marginal_adhesion  \\\n",
       "0            1                3      2                5                  1   \n",
       "1           10                3      2                5                  5   \n",
       "2            2                3      2                3                  1   \n",
       "3            4                3      2                6                  1   \n",
       "4            1                3      2                4                  3   \n",
       "\n",
       "   mitoses  normal_nucleoli  sample_id  single_epithelial_cell_size  \\\n",
       "0        1                1    1000025                            2   \n",
       "1        1                2    1002945                            7   \n",
       "2        1                1    1015425                            2   \n",
       "3        1                7    1016277                            3   \n",
       "4        1                1    1017023                            2   \n",
       "\n",
       "   uniformity_of_cell_shape  uniformity_of_cell_size  \n",
       "0                         1                        1  \n",
       "1                         4                        4  \n",
       "2                         1                        1  \n",
       "3                         8                        8  \n",
       "4                         1                        1  "
      ]
     },
     "execution_count": 21,
     "metadata": {},
     "output_type": "execute_result"
    }
   ],
   "source": [
    "pd.DataFrame(results)"
   ]
  },
  {
   "cell_type": "code",
   "execution_count": 17,
   "metadata": {},
   "outputs": [
    {
     "data": {
      "text/plain": [
       "[{'bare_nuclei': 1,\n",
       "  'bland_chromatin': 3,\n",
       "  'class': 2,\n",
       "  'clump_thickness': 5,\n",
       "  'marginal_adhesion': 1,\n",
       "  'mitoses': 1,\n",
       "  'normal_nucleoli': 1,\n",
       "  'sample_id': 1000025,\n",
       "  'single_epithelial_cell_size': 2,\n",
       "  'uniformity_of_cell_shape': 1,\n",
       "  'uniformity_of_cell_size': 1},\n",
       " {'bare_nuclei': 10,\n",
       "  'bland_chromatin': 3,\n",
       "  'class': 2,\n",
       "  'clump_thickness': 5,\n",
       "  'marginal_adhesion': 5,\n",
       "  'mitoses': 1,\n",
       "  'normal_nucleoli': 2,\n",
       "  'sample_id': 1002945,\n",
       "  'single_epithelial_cell_size': 7,\n",
       "  'uniformity_of_cell_shape': 4,\n",
       "  'uniformity_of_cell_size': 4},\n",
       " {'bare_nuclei': 2,\n",
       "  'bland_chromatin': 3,\n",
       "  'class': 2,\n",
       "  'clump_thickness': 3,\n",
       "  'marginal_adhesion': 1,\n",
       "  'mitoses': 1,\n",
       "  'normal_nucleoli': 1,\n",
       "  'sample_id': 1015425,\n",
       "  'single_epithelial_cell_size': 2,\n",
       "  'uniformity_of_cell_shape': 1,\n",
       "  'uniformity_of_cell_size': 1},\n",
       " {'bare_nuclei': 4,\n",
       "  'bland_chromatin': 3,\n",
       "  'class': 2,\n",
       "  'clump_thickness': 6,\n",
       "  'marginal_adhesion': 1,\n",
       "  'mitoses': 1,\n",
       "  'normal_nucleoli': 7,\n",
       "  'sample_id': 1016277,\n",
       "  'single_epithelial_cell_size': 3,\n",
       "  'uniformity_of_cell_shape': 8,\n",
       "  'uniformity_of_cell_size': 8},\n",
       " {'bare_nuclei': 1,\n",
       "  'bland_chromatin': 3,\n",
       "  'class': 2,\n",
       "  'clump_thickness': 4,\n",
       "  'marginal_adhesion': 3,\n",
       "  'mitoses': 1,\n",
       "  'normal_nucleoli': 1,\n",
       "  'sample_id': 1017023,\n",
       "  'single_epithelial_cell_size': 2,\n",
       "  'uniformity_of_cell_shape': 1,\n",
       "  'uniformity_of_cell_size': 1}]"
      ]
     },
     "execution_count": 17,
     "metadata": {},
     "output_type": "execute_result"
    }
   ],
   "source": [
    "results"
   ]
  }
 ],
 "metadata": {
  "kernelspec": {
   "display_name": "Python 3",
   "language": "python",
   "name": "python3"
  },
  "language_info": {
   "codemirror_mode": {
    "name": "ipython",
    "version": 3
   },
   "file_extension": ".py",
   "mimetype": "text/x-python",
   "name": "python",
   "nbconvert_exporter": "python",
   "pygments_lexer": "ipython3",
   "version": "3.6.4"
  }
 },
 "nbformat": 4,
 "nbformat_minor": 2
}
